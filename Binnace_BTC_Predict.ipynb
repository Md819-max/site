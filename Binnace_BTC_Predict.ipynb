{
  "nbformat": 4,
  "nbformat_minor": 0,
  "metadata": {
    "colab": {
      "provenance": [],
      "authorship_tag": "ABX9TyM7+518+GSnUH4mSoQRk/if",
      "include_colab_link": true
    },
    "kernelspec": {
      "name": "python3",
      "display_name": "Python 3"
    },
    "language_info": {
      "name": "python"
    }
  },
  "cells": [
    {
      "cell_type": "markdown",
      "metadata": {
        "id": "view-in-github",
        "colab_type": "text"
      },
      "source": [
        "<a href=\"https://colab.research.google.com/github/Md819-max/site/blob/main/Binnace_BTC_Predict.ipynb\" target=\"_parent\"><img src=\"https://colab.research.google.com/assets/colab-badge.svg\" alt=\"Open In Colab\"/></a>"
      ]
    },
    {
      "cell_type": "code",
      "source": [
        "!pip install yfinance\n"
      ],
      "metadata": {
        "colab": {
          "base_uri": "https://localhost:8080/"
        },
        "id": "YB9Y7HuPJ7Eg",
        "outputId": "e54f77c4-1e44-4fd9-9bbe-de1c3710aa4f"
      },
      "execution_count": null,
      "outputs": [
        {
          "output_type": "stream",
          "name": "stdout",
          "text": [
            "Requirement already satisfied: yfinance in /usr/local/lib/python3.11/dist-packages (0.2.65)\n",
            "Requirement already satisfied: pandas>=1.3.0 in /usr/local/lib/python3.11/dist-packages (from yfinance) (2.2.2)\n",
            "Requirement already satisfied: numpy>=1.16.5 in /usr/local/lib/python3.11/dist-packages (from yfinance) (2.0.2)\n",
            "Requirement already satisfied: requests>=2.31 in /usr/local/lib/python3.11/dist-packages (from yfinance) (2.32.3)\n",
            "Requirement already satisfied: multitasking>=0.0.7 in /usr/local/lib/python3.11/dist-packages (from yfinance) (0.0.11)\n",
            "Requirement already satisfied: platformdirs>=2.0.0 in /usr/local/lib/python3.11/dist-packages (from yfinance) (4.3.8)\n",
            "Requirement already satisfied: pytz>=2022.5 in /usr/local/lib/python3.11/dist-packages (from yfinance) (2025.2)\n",
            "Requirement already satisfied: frozendict>=2.3.4 in /usr/local/lib/python3.11/dist-packages (from yfinance) (2.4.6)\n",
            "Requirement already satisfied: peewee>=3.16.2 in /usr/local/lib/python3.11/dist-packages (from yfinance) (3.18.2)\n",
            "Requirement already satisfied: beautifulsoup4>=4.11.1 in /usr/local/lib/python3.11/dist-packages (from yfinance) (4.13.4)\n",
            "Requirement already satisfied: curl_cffi>=0.7 in /usr/local/lib/python3.11/dist-packages (from yfinance) (0.11.4)\n",
            "Requirement already satisfied: protobuf>=3.19.0 in /usr/local/lib/python3.11/dist-packages (from yfinance) (5.29.5)\n",
            "Requirement already satisfied: websockets>=13.0 in /usr/local/lib/python3.11/dist-packages (from yfinance) (15.0.1)\n",
            "Requirement already satisfied: soupsieve>1.2 in /usr/local/lib/python3.11/dist-packages (from beautifulsoup4>=4.11.1->yfinance) (2.7)\n",
            "Requirement already satisfied: typing-extensions>=4.0.0 in /usr/local/lib/python3.11/dist-packages (from beautifulsoup4>=4.11.1->yfinance) (4.14.1)\n",
            "Requirement already satisfied: cffi>=1.12.0 in /usr/local/lib/python3.11/dist-packages (from curl_cffi>=0.7->yfinance) (1.17.1)\n",
            "Requirement already satisfied: certifi>=2024.2.2 in /usr/local/lib/python3.11/dist-packages (from curl_cffi>=0.7->yfinance) (2025.7.9)\n",
            "Requirement already satisfied: python-dateutil>=2.8.2 in /usr/local/lib/python3.11/dist-packages (from pandas>=1.3.0->yfinance) (2.9.0.post0)\n",
            "Requirement already satisfied: tzdata>=2022.7 in /usr/local/lib/python3.11/dist-packages (from pandas>=1.3.0->yfinance) (2025.2)\n",
            "Requirement already satisfied: charset-normalizer<4,>=2 in /usr/local/lib/python3.11/dist-packages (from requests>=2.31->yfinance) (3.4.2)\n",
            "Requirement already satisfied: idna<4,>=2.5 in /usr/local/lib/python3.11/dist-packages (from requests>=2.31->yfinance) (3.10)\n",
            "Requirement already satisfied: urllib3<3,>=1.21.1 in /usr/local/lib/python3.11/dist-packages (from requests>=2.31->yfinance) (2.4.0)\n",
            "Requirement already satisfied: pycparser in /usr/local/lib/python3.11/dist-packages (from cffi>=1.12.0->curl_cffi>=0.7->yfinance) (2.22)\n",
            "Requirement already satisfied: six>=1.5 in /usr/local/lib/python3.11/dist-packages (from python-dateutil>=2.8.2->pandas>=1.3.0->yfinance) (1.17.0)\n"
          ]
        }
      ]
    },
    {
      "cell_type": "code",
      "source": [
        "import pandas as pd\n",
        "import yfinance as yf\n",
        "import numpy as np\n",
        "\n",
        "# Download 60-day hourly BTC-USD data\n",
        "df = yf.download(\"BTC-USD\", interval=\"1h\", period=\"60d\")\n",
        "df.reset_index(inplace=True)\n",
        "df = df[[\"Datetime\", \"Close\"]].rename(columns={\"Close\": \"price\"})\n",
        "\n",
        "# Feature engineering\n",
        "df[\"lag_1\"] = df[\"price\"].shift(1)\n",
        "df[\"lag_2\"] = df[\"price\"].shift(2)\n",
        "df[\"lag_3\"] = df[\"price\"].shift(3)\n",
        "df[\"sma_10\"] = df[\"price\"].rolling(10).mean()\n",
        "df[\"returns\"] = df[\"price\"].pct_change()\n",
        "df[\"trend\"] = (df[\"price\"].shift(-1) > df[\"price\"]).astype(int)\n",
        "df[\"target_2day\"] = df[\"price\"].shift(-48)\n",
        "df.dropna(inplace=True)\n",
        "\n",
        "# Preview\n",
        "print(df.tail())\n"
      ],
      "metadata": {
        "colab": {
          "base_uri": "https://localhost:8080/"
        },
        "id": "kLl1ykLZKGqq",
        "outputId": "82e45f6f-eb1e-4640-f276-22db7153c233"
      },
      "execution_count": null,
      "outputs": [
        {
          "output_type": "stream",
          "name": "stderr",
          "text": [
            "/tmp/ipython-input-60-1137878335.py:6: FutureWarning: YF.download() has changed argument auto_adjust default to True\n",
            "  df = yf.download(\"BTC-USD\", interval=\"1h\", period=\"60d\")\n",
            "\r[*********************100%***********************]  1 of 1 completed"
          ]
        },
        {
          "output_type": "stream",
          "name": "stdout",
          "text": [
            "Price                   Datetime          price          lag_1          lag_2  \\\n",
            "Ticker                                  BTC-USD                                 \n",
            "1376   2025-07-14 08:00:00+00:00  122566.445312  122776.273438  122091.015625   \n",
            "1377   2025-07-14 09:00:00+00:00  121969.546875  122566.445312  122776.273438   \n",
            "1378   2025-07-14 10:00:00+00:00  121918.609375  121969.546875  122566.445312   \n",
            "1379   2025-07-14 11:00:00+00:00  121487.484375  121918.609375  121969.546875   \n",
            "1380   2025-07-14 12:00:00+00:00  121863.000000  121487.484375  121918.609375   \n",
            "\n",
            "Price           lag_3         sma_10   returns trend    target_2day  \n",
            "Ticker                                                               \n",
            "1376    122454.945312  120909.767969 -0.001709     0  118709.171875  \n",
            "1377    122091.015625  121196.980469 -0.004870     0  119121.046875  \n",
            "1378    122776.273438  121476.950781 -0.000418     0  118762.875000  \n",
            "1379    122566.445312  121712.195312 -0.003536     1  118765.257812  \n",
            "1380    121969.546875  121928.275000  0.003091     0  118887.101562  \n"
          ]
        },
        {
          "output_type": "stream",
          "name": "stderr",
          "text": [
            "\n"
          ]
        }
      ]
    },
    {
      "cell_type": "code",
      "source": [
        "import yfinance as yf\n",
        "import pandas as pd\n",
        "\n",
        "# Download data\n",
        "df = yf.download(\"BTC-USD\", interval=\"1h\", period=\"60d\")\n",
        "df.reset_index(inplace=True)\n",
        "df = df[[\"Datetime\", \"Close\"]].rename(columns={\"Close\": \"price\"})\n",
        "\n",
        "# Feature engineering\n",
        "df[\"lag_1\"] = df[\"price\"].shift(1)\n",
        "df[\"lag_2\"] = df[\"price\"].shift(2)\n",
        "df[\"lag_3\"] = df[\"price\"].shift(3)\n",
        "df[\"sma_10\"] = df[\"price\"].rolling(10).mean()\n",
        "df[\"returns\"] = df[\"price\"].pct_change()\n",
        "df[\"trend\"] = (df[\"price\"].shift(-1) > df[\"price\"]).astype(int)\n",
        "df[\"target_2day\"] = df[\"price\"].shift(-48)\n",
        "df.dropna(inplace=True)\n"
      ],
      "metadata": {
        "colab": {
          "base_uri": "https://localhost:8080/"
        },
        "id": "7NojL8RxKdiR",
        "outputId": "51e5e9ea-90ca-4f79-90bb-4f0d5e70d1a7"
      },
      "execution_count": null,
      "outputs": [
        {
          "output_type": "stream",
          "name": "stderr",
          "text": [
            "/tmp/ipython-input-61-4233472308.py:5: FutureWarning: YF.download() has changed argument auto_adjust default to True\n",
            "  df = yf.download(\"BTC-USD\", interval=\"1h\", period=\"60d\")\n",
            "\r[*********************100%***********************]  1 of 1 completed\n"
          ]
        }
      ]
    },
    {
      "cell_type": "code",
      "source": [
        "from sklearn.model_selection import train_test_split\n",
        "from sklearn.preprocessing import StandardScaler\n",
        "from sklearn.linear_model import LogisticRegression\n",
        "from sklearn.tree import DecisionTreeClassifier\n",
        "from sklearn.ensemble import RandomForestRegressor\n",
        "from sklearn.neighbors import KNeighborsClassifier\n",
        "from sklearn.cluster import KMeans\n",
        "from sklearn.metrics import accuracy_score, mean_absolute_error\n",
        "import pandas as pd\n",
        "\n",
        "# ✅ Features and targets\n",
        "features = [\"price\", \"lag_1\", \"lag_2\", \"lag_3\", \"sma_10\"]\n",
        "X_cls = df[features]\n",
        "y_cls = df[\"trend\"]\n",
        "X_reg = df[features]\n",
        "y_reg = df[\"target_2day\"]\n",
        "\n",
        "# ✅ Train/test split\n",
        "X_train_cls, X_test_cls, y_train_cls, y_test_cls = train_test_split(X_cls, y_cls, test_size=0.2, random_state=42)\n",
        "X_train_reg, X_test_reg, y_train_reg, y_test_reg = train_test_split(X_reg, y_reg, test_size=0.2, random_state=42)\n",
        "\n",
        "# ✅ Scale\n",
        "scaler_cls = StandardScaler()\n",
        "X_train_cls_scaled = scaler_cls.fit_transform(X_train_cls)\n",
        "X_test_cls_scaled = scaler_cls.transform(X_test_cls)\n",
        "\n",
        "scaler_reg = StandardScaler()\n",
        "X_train_reg_scaled = scaler_reg.fit_transform(X_train_reg)\n",
        "X_test_reg_scaled = scaler_reg.transform(X_test_reg)\n",
        "\n",
        "# ✅ Train models\n",
        "log_model = LogisticRegression().fit(X_train_cls_scaled, y_train_cls)\n",
        "tree_model = DecisionTreeClassifier().fit(X_train_cls_scaled, y_train_cls)\n",
        "knn_model = KNeighborsClassifier().fit(X_train_cls_scaled, y_train_cls)\n",
        "rf_model = RandomForestRegressor().fit(X_train_reg_scaled, y_train_reg)\n",
        "kmeans_model = KMeans(n_clusters=2, random_state=42).fit(X_train_cls_scaled)\n",
        "\n",
        "# ✅ Evaluate\n",
        "print(\"🔍 Logistic Regression Accuracy:\", accuracy_score(y_test_cls, log_model.predict(X_test_cls_scaled)))\n",
        "print(\"🌳 Decision Tree Accuracy:\", accuracy_score(y_test_cls, tree_model.predict(X_test_cls_scaled)))\n",
        "print(\"👥 KNN Accuracy:\", accuracy_score(y_test_cls, knn_model.predict(X_test_cls_scaled)))\n",
        "print(\"🎯 Random Forest MAE (2-day price prediction):\", mean_absolute_error(y_test_reg, rf_model.predict(X_test_reg_scaled)))\n",
        "print(\"🧠 KMeans cluster centers:\", kmeans_model.cluster_centers_)\n"
      ],
      "metadata": {
        "colab": {
          "base_uri": "https://localhost:8080/"
        },
        "id": "OYvGrl_RK4Lu",
        "outputId": "b88df26a-8d80-46ce-e93c-81923b39647a"
      },
      "execution_count": null,
      "outputs": [
        {
          "output_type": "stream",
          "name": "stdout",
          "text": [
            "🔍 Logistic Regression Accuracy: 0.48727272727272725\n",
            "🌳 Decision Tree Accuracy: 0.4909090909090909\n",
            "👥 KNN Accuracy: 0.4581818181818182\n",
            "🎯 Random Forest MAE (2-day price prediction): 1747.4458292613633\n",
            "🧠 KMeans cluster centers: [[-0.203416   -0.20321582 -0.20310474 -0.20248731 -0.20234777]\n",
            " [ 2.93950447  2.93661168  2.93500646  2.92608426  2.92406781]]\n"
          ]
        }
      ]
    },
    {
      "cell_type": "code",
      "source": [
        "!pip install tensorflow\n"
      ],
      "metadata": {
        "colab": {
          "base_uri": "https://localhost:8080/"
        },
        "collapsed": true,
        "id": "xTvk2tMULI55",
        "outputId": "e75fe6ef-8529-4685-efa2-4aab28f49bab"
      },
      "execution_count": null,
      "outputs": [
        {
          "output_type": "stream",
          "name": "stdout",
          "text": [
            "Requirement already satisfied: tensorflow in /usr/local/lib/python3.11/dist-packages (2.18.0)\n",
            "Requirement already satisfied: absl-py>=1.0.0 in /usr/local/lib/python3.11/dist-packages (from tensorflow) (1.4.0)\n",
            "Requirement already satisfied: astunparse>=1.6.0 in /usr/local/lib/python3.11/dist-packages (from tensorflow) (1.6.3)\n",
            "Requirement already satisfied: flatbuffers>=24.3.25 in /usr/local/lib/python3.11/dist-packages (from tensorflow) (25.2.10)\n",
            "Requirement already satisfied: gast!=0.5.0,!=0.5.1,!=0.5.2,>=0.2.1 in /usr/local/lib/python3.11/dist-packages (from tensorflow) (0.6.0)\n",
            "Requirement already satisfied: google-pasta>=0.1.1 in /usr/local/lib/python3.11/dist-packages (from tensorflow) (0.2.0)\n",
            "Requirement already satisfied: libclang>=13.0.0 in /usr/local/lib/python3.11/dist-packages (from tensorflow) (18.1.1)\n",
            "Requirement already satisfied: opt-einsum>=2.3.2 in /usr/local/lib/python3.11/dist-packages (from tensorflow) (3.4.0)\n",
            "Requirement already satisfied: packaging in /usr/local/lib/python3.11/dist-packages (from tensorflow) (24.2)\n",
            "Requirement already satisfied: protobuf!=4.21.0,!=4.21.1,!=4.21.2,!=4.21.3,!=4.21.4,!=4.21.5,<6.0.0dev,>=3.20.3 in /usr/local/lib/python3.11/dist-packages (from tensorflow) (5.29.5)\n",
            "Requirement already satisfied: requests<3,>=2.21.0 in /usr/local/lib/python3.11/dist-packages (from tensorflow) (2.32.3)\n",
            "Requirement already satisfied: setuptools in /usr/local/lib/python3.11/dist-packages (from tensorflow) (75.2.0)\n",
            "Requirement already satisfied: six>=1.12.0 in /usr/local/lib/python3.11/dist-packages (from tensorflow) (1.17.0)\n",
            "Requirement already satisfied: termcolor>=1.1.0 in /usr/local/lib/python3.11/dist-packages (from tensorflow) (3.1.0)\n",
            "Requirement already satisfied: typing-extensions>=3.6.6 in /usr/local/lib/python3.11/dist-packages (from tensorflow) (4.14.1)\n",
            "Requirement already satisfied: wrapt>=1.11.0 in /usr/local/lib/python3.11/dist-packages (from tensorflow) (1.17.2)\n",
            "Requirement already satisfied: grpcio<2.0,>=1.24.3 in /usr/local/lib/python3.11/dist-packages (from tensorflow) (1.73.1)\n",
            "Requirement already satisfied: tensorboard<2.19,>=2.18 in /usr/local/lib/python3.11/dist-packages (from tensorflow) (2.18.0)\n",
            "Requirement already satisfied: keras>=3.5.0 in /usr/local/lib/python3.11/dist-packages (from tensorflow) (3.8.0)\n",
            "Requirement already satisfied: numpy<2.1.0,>=1.26.0 in /usr/local/lib/python3.11/dist-packages (from tensorflow) (2.0.2)\n",
            "Requirement already satisfied: h5py>=3.11.0 in /usr/local/lib/python3.11/dist-packages (from tensorflow) (3.14.0)\n",
            "Requirement already satisfied: ml-dtypes<0.5.0,>=0.4.0 in /usr/local/lib/python3.11/dist-packages (from tensorflow) (0.4.1)\n",
            "Requirement already satisfied: tensorflow-io-gcs-filesystem>=0.23.1 in /usr/local/lib/python3.11/dist-packages (from tensorflow) (0.37.1)\n",
            "Requirement already satisfied: wheel<1.0,>=0.23.0 in /usr/local/lib/python3.11/dist-packages (from astunparse>=1.6.0->tensorflow) (0.45.1)\n",
            "Requirement already satisfied: rich in /usr/local/lib/python3.11/dist-packages (from keras>=3.5.0->tensorflow) (13.9.4)\n",
            "Requirement already satisfied: namex in /usr/local/lib/python3.11/dist-packages (from keras>=3.5.0->tensorflow) (0.1.0)\n",
            "Requirement already satisfied: optree in /usr/local/lib/python3.11/dist-packages (from keras>=3.5.0->tensorflow) (0.16.0)\n",
            "Requirement already satisfied: charset-normalizer<4,>=2 in /usr/local/lib/python3.11/dist-packages (from requests<3,>=2.21.0->tensorflow) (3.4.2)\n",
            "Requirement already satisfied: idna<4,>=2.5 in /usr/local/lib/python3.11/dist-packages (from requests<3,>=2.21.0->tensorflow) (3.10)\n",
            "Requirement already satisfied: urllib3<3,>=1.21.1 in /usr/local/lib/python3.11/dist-packages (from requests<3,>=2.21.0->tensorflow) (2.4.0)\n",
            "Requirement already satisfied: certifi>=2017.4.17 in /usr/local/lib/python3.11/dist-packages (from requests<3,>=2.21.0->tensorflow) (2025.7.9)\n",
            "Requirement already satisfied: markdown>=2.6.8 in /usr/local/lib/python3.11/dist-packages (from tensorboard<2.19,>=2.18->tensorflow) (3.8.2)\n",
            "Requirement already satisfied: tensorboard-data-server<0.8.0,>=0.7.0 in /usr/local/lib/python3.11/dist-packages (from tensorboard<2.19,>=2.18->tensorflow) (0.7.2)\n",
            "Requirement already satisfied: werkzeug>=1.0.1 in /usr/local/lib/python3.11/dist-packages (from tensorboard<2.19,>=2.18->tensorflow) (3.1.3)\n",
            "Requirement already satisfied: MarkupSafe>=2.1.1 in /usr/local/lib/python3.11/dist-packages (from werkzeug>=1.0.1->tensorboard<2.19,>=2.18->tensorflow) (3.0.2)\n",
            "Requirement already satisfied: markdown-it-py>=2.2.0 in /usr/local/lib/python3.11/dist-packages (from rich->keras>=3.5.0->tensorflow) (3.0.0)\n",
            "Requirement already satisfied: pygments<3.0.0,>=2.13.0 in /usr/local/lib/python3.11/dist-packages (from rich->keras>=3.5.0->tensorflow) (2.19.2)\n",
            "Requirement already satisfied: mdurl~=0.1 in /usr/local/lib/python3.11/dist-packages (from markdown-it-py>=2.2.0->rich->keras>=3.5.0->tensorflow) (0.1.2)\n"
          ]
        }
      ]
    },
    {
      "cell_type": "code",
      "source": [
        "from tensorflow.keras.models import Sequential\n",
        "from tensorflow.keras.layers import Dense\n",
        "from sklearn.metrics import mean_absolute_error\n",
        "\n",
        "# Build model\n",
        "dl_reg_model = Sequential([\n",
        "    Dense(64, activation='relu', input_shape=(X_train_reg_scaled.shape[1],)),\n",
        "    Dense(32, activation='relu'),\n",
        "    Dense(1)\n",
        "])\n",
        "\n",
        "# Compile and train\n",
        "dl_reg_model.compile(optimizer='adam', loss='mean_absolute_error')\n",
        "dl_reg_model.fit(X_train_reg_scaled, y_train_reg, epochs=100, verbose=0)\n",
        "\n",
        "# Predict and evaluate\n",
        "dl_reg_pred = dl_reg_model.predict(X_test_reg_scaled).flatten()\n",
        "dl_reg_mae = mean_absolute_error(y_test_reg, dl_reg_pred)\n",
        "print(f\"📉 Deep Learning Regression MAE: ${dl_reg_mae:.2f}\")\n"
      ],
      "metadata": {
        "colab": {
          "base_uri": "https://localhost:8080/"
        },
        "id": "JxfdqrufLOP1",
        "outputId": "8f42d422-a977-430e-9ac5-05df882b41be"
      },
      "execution_count": null,
      "outputs": [
        {
          "output_type": "stream",
          "name": "stderr",
          "text": [
            "/usr/local/lib/python3.11/dist-packages/keras/src/layers/core/dense.py:87: UserWarning: Do not pass an `input_shape`/`input_dim` argument to a layer. When using Sequential models, prefer using an `Input(shape)` object as the first layer in the model instead.\n",
            "  super().__init__(activity_regularizer=activity_regularizer, **kwargs)\n",
            "WARNING:tensorflow:6 out of the last 8 calls to <function TensorFlowTrainer.make_predict_function.<locals>.one_step_on_data_distributed at 0x7c4ea6735760> triggered tf.function retracing. Tracing is expensive and the excessive number of tracings could be due to (1) creating @tf.function repeatedly in a loop, (2) passing tensors with different shapes, (3) passing Python objects instead of tensors. For (1), please define your @tf.function outside of the loop. For (2), @tf.function has reduce_retracing=True option that can avoid unnecessary retracing. For (3), please refer to https://www.tensorflow.org/guide/function#controlling_retracing and https://www.tensorflow.org/api_docs/python/tf/function for  more details.\n"
          ]
        },
        {
          "output_type": "stream",
          "name": "stdout",
          "text": [
            "\u001b[1m9/9\u001b[0m \u001b[32m━━━━━━━━━━━━━━━━━━━━\u001b[0m\u001b[37m\u001b[0m \u001b[1m0s\u001b[0m 7ms/step \n",
            "📉 Deep Learning Regression MAE: $19767.19\n"
          ]
        }
      ]
    },
    {
      "cell_type": "code",
      "source": [
        "from sklearn.metrics import accuracy_score\n",
        "\n",
        "# Build model\n",
        "dl_cls_model = Sequential([\n",
        "    Dense(64, activation='relu', input_shape=(X_train_cls_scaled.shape[1],)),\n",
        "    Dense(32, activation='relu'),\n",
        "    Dense(1, activation='sigmoid')\n",
        "])\n",
        "\n",
        "# Compile and train\n",
        "dl_cls_model.compile(optimizer='adam', loss='binary_crossentropy', metrics=['accuracy'])\n",
        "dl_cls_model.fit(X_train_cls_scaled, y_train_cls, epochs=100, verbose=0)\n",
        "\n",
        "# Predict and evaluate\n",
        "dl_cls_probs = dl_cls_model.predict(X_test_cls_scaled).flatten()\n",
        "dl_cls_pred = (dl_cls_probs > 0.5).astype(int)\n",
        "dl_cls_acc = accuracy_score(y_test_cls, dl_cls_pred)\n",
        "print(f\"📈 Deep Learning Classification Accuracy: {dl_cls_acc:.2f}\")\n"
      ],
      "metadata": {
        "colab": {
          "base_uri": "https://localhost:8080/"
        },
        "id": "Xwjw4yI6Lxup",
        "outputId": "8ce77ccb-3b7b-4996-fa9f-b4561cf96f72"
      },
      "execution_count": null,
      "outputs": [
        {
          "output_type": "stream",
          "name": "stderr",
          "text": [
            "/usr/local/lib/python3.11/dist-packages/keras/src/layers/core/dense.py:87: UserWarning: Do not pass an `input_shape`/`input_dim` argument to a layer. When using Sequential models, prefer using an `Input(shape)` object as the first layer in the model instead.\n",
            "  super().__init__(activity_regularizer=activity_regularizer, **kwargs)\n"
          ]
        },
        {
          "output_type": "stream",
          "name": "stdout",
          "text": [
            "\u001b[1m9/9\u001b[0m \u001b[32m━━━━━━━━━━━━━━━━━━━━\u001b[0m\u001b[37m\u001b[0m \u001b[1m0s\u001b[0m 8ms/step \n",
            "📈 Deep Learning Classification Accuracy: 0.48\n"
          ]
        }
      ]
    },
    {
      "cell_type": "code",
      "source": [
        "# Select the latest known data row (must be run after feature engineering)\n",
        "latest_features = df[[\"price\", \"lag_1\", \"lag_2\", \"lag_3\", \"sma_10\"]].iloc[-1:].copy()\n",
        "predictions_rf = []\n",
        "predictions_dl = []\n",
        "dates = pd.date_range(start=\"2025-07-16\", periods=3)\n",
        "\n",
        "# Function to simulate next input row using last prediction\n",
        "def shift_inputs(prev_row, new_price):\n",
        "    new_row = prev_row.copy()\n",
        "    new_row[\"lag_3\"] = new_row[\"lag_2\"].values[0]\n",
        "    new_row[\"lag_2\"] = new_row[\"lag_1\"].values[0]\n",
        "    new_row[\"lag_1\"] = new_row[\"price\"].values[0]\n",
        "    new_row[\"price\"] = new_price\n",
        "    new_row[\"sma_10\"] = (df[\"price\"].iloc[-9:].sum() + new_price) / 10\n",
        "    return new_row\n"
      ],
      "metadata": {
        "id": "e_PxVfaHMsn4"
      },
      "execution_count": null,
      "outputs": []
    },
    {
      "cell_type": "code",
      "source": [
        "current_input = latest_features.copy()\n",
        "\n",
        "for i in range(3):\n",
        "    scaled_input = scaler.transform(current_input)\n",
        "\n",
        "    # Predict with Random Forest and DL\n",
        "    rf_price = rf_model.predict(scaled_input)[0]\n",
        "    dl_price = dl_reg_model.predict(scaled_input).flatten()[0]\n",
        "\n",
        "    predictions_rf.append(rf_price)\n",
        "    predictions_dl.append(dl_price)\n",
        "\n",
        "    # Shift input for next day using RF result\n",
        "    current_input = shift_inputs(current_input, rf_price)\n"
      ],
      "metadata": {
        "colab": {
          "base_uri": "https://localhost:8080/"
        },
        "id": "a1Z-LxCdMvfS",
        "outputId": "2601ac7b-6517-4a6f-8fe2-804e3e0cc0ed"
      },
      "execution_count": null,
      "outputs": [
        {
          "output_type": "stream",
          "name": "stdout",
          "text": [
            "\u001b[1m1/1\u001b[0m \u001b[32m━━━━━━━━━━━━━━━━━━━━\u001b[0m\u001b[37m\u001b[0m \u001b[1m0s\u001b[0m 49ms/step\n",
            "\u001b[1m1/1\u001b[0m \u001b[32m━━━━━━━━━━━━━━━━━━━━\u001b[0m\u001b[37m\u001b[0m \u001b[1m0s\u001b[0m 42ms/step\n",
            "\u001b[1m1/1\u001b[0m \u001b[32m━━━━━━━━━━━━━━━━━━━━\u001b[0m\u001b[37m\u001b[0m \u001b[1m0s\u001b[0m 40ms/step\n"
          ]
        }
      ]
    },
    {
      "cell_type": "code",
      "source": [
        "pred_df = pd.DataFrame({\n",
        "    \"Date\": dates,\n",
        "    \"RandomForest_Price\": predictions_rf,\n",
        "    \"DeepLearning_Price\": predictions_dl\n",
        "})\n",
        "\n",
        "print(pred_df)\n",
        "\n",
        "# Plot\n",
        "import matplotlib.pyplot as plt\n",
        "\n",
        "plt.figure(figsize=(10, 5))\n",
        "plt.plot(pred_df[\"Date\"], pred_df[\"RandomForest_Price\"], label=\"Random Forest\", marker=\"o\")\n",
        "plt.plot(pred_df[\"Date\"], pred_df[\"DeepLearning_Price\"], label=\"Deep Learning\", marker=\"o\")\n",
        "plt.title(\"BTC Predicted Prices (July 16–18, 2025)\")\n",
        "plt.xlabel(\"Date\")\n",
        "plt.ylabel(\"Price (USD)\")\n",
        "plt.grid(True)\n",
        "plt.legend()\n",
        "plt.xticks(rotation=45)\n",
        "plt.tight_layout()\n",
        "plt.show()\n"
      ],
      "metadata": {
        "colab": {
          "base_uri": "https://localhost:8080/",
          "height": 576
        },
        "id": "PJdLrSaaMyei",
        "outputId": "5d3e2b70-65a9-4941-e9b6-7140a65f516c"
      },
      "execution_count": null,
      "outputs": [
        {
          "output_type": "stream",
          "name": "stdout",
          "text": [
            "        Date  RandomForest_Price  DeepLearning_Price\n",
            "0 2025-07-16       118828.941094         289779.9375\n",
            "1 2025-07-17       117430.142031                 NaN\n",
            "2 2025-07-18       118725.349922                 NaN\n"
          ]
        },
        {
          "output_type": "display_data",
          "data": {
            "text/plain": [
              "<Figure size 1000x500 with 1 Axes>"
            ],
            "image/png": "[encoded data removed]"
          },
          "metadata": {}
        }
      ]
    },
    {
      "cell_type": "code",
      "source": [
        "current_input = latest_features.copy()\n",
        "\n",
        "for i in range(3):\n",
        "    scaled_input = scaler.transform(current_input)\n",
        "\n",
        "    rf_price = rf_model.predict(scaled_input)[0]\n",
        "    dl_price = dl_reg_model.predict(scaled_input).flatten()[0]\n",
        "\n",
        "    predictions_rf.append(rf_price)\n",
        "    predictions_dl.append(dl_price)\n",
        "\n",
        "    current_input = shift_inputs(current_input, rf_price)\n"
      ],
      "metadata": {
        "id": "svbrCAkcM_Vz",
        "outputId": "dddfc8f9-4fff-4027-cd17-7da6074524e0",
        "colab": {
          "base_uri": "https://localhost:8080/"
        }
      },
      "execution_count": null,
      "outputs": [
        {
          "output_type": "stream",
          "name": "stdout",
          "text": [
            "\u001b[1m1/1\u001b[0m \u001b[32m━━━━━━━━━━━━━━━━━━━━\u001b[0m\u001b[37m\u001b[0m \u001b[1m0s\u001b[0m 68ms/step\n",
            "\u001b[1m1/1\u001b[0m \u001b[32m━━━━━━━━━━━━━━━━━━━━\u001b[0m\u001b[37m\u001b[0m \u001b[1m0s\u001b[0m 59ms/step\n",
            "\u001b[1m1/1\u001b[0m \u001b[32m━━━━━━━━━━━━━━━━━━━━\u001b[0m\u001b[37m\u001b[0m \u001b[1m0s\u001b[0m 37ms/step\n"
          ]
        }
      ]
    }
  ]
}